{
 "cells": [
  {
   "cell_type": "code",
   "execution_count": 1,
   "metadata": {},
   "outputs": [],
   "source": [
    "import numpy as np\n",
    "import matplotlib.pyplot as plt\n",
    "from scipy import interpolate, integrate"
   ]
  },
  {
   "cell_type": "markdown",
   "metadata": {},
   "source": [
    "# f(t) = 1\n",
    "# Corresponding to EFT of Quintessense and K-essense"
   ]
  },
  {
   "cell_type": "code",
   "execution_count": 7,
   "metadata": {},
   "outputs": [
    {
     "data": {
      "text/plain": [
       "[<matplotlib.lines.Line2D at 0x7f1187b38690>]"
      ]
     },
     "execution_count": 7,
     "metadata": {},
     "output_type": "execute_result"
    },
    {
     "data": {
      "image/png": "[encoded data removed]",
      "text/plain": [
       "<matplotlib.figure.Figure at 0x7f1187bb9610>"
      ]
     },
     "metadata": {},
     "output_type": "display_data"
    }
   ],
   "source": [
    "zstart = 0.0\n",
    "zend   = 4.0\n",
    "zsize  = 30\n",
    "\n",
    "# redshift at which we plot the EFT functions\n",
    "z = np.linspace(zstart, zend, zsize)\n",
    "\n",
    "# function c(z) of the EFT using some interpolation\n",
    "def c(z):\n",
    "    x = [zstart,  1.0 , 3.0 , zend  ]\n",
    "    y = [0.01  , -0.01, 0.01, -0.02 ]\n",
    "    f = interpolate.interp1d(x, y, kind='linear')\n",
    "    c = f(z)\n",
    "    return c\n",
    "\n",
    "# function to be integrated at each 'z'\n",
    "def integral(z):\n",
    "    return 6.0*c(z)/(1.0+z)\n",
    "\n",
    "# \\Lambda(z) at some z\n",
    "def L(z):\n",
    "    OmL = 0.7\n",
    "    I = integrate.quad(integral, zstart, z)[0]\n",
    "    # OmL is the dark energy density parameter today\n",
    "    I = I - c(z) + OmL \n",
    "    return I\n",
    "\n",
    "# \\Lambda(z) for full interval\n",
    "def Lambda(z_interval):\n",
    "    return np.array([L(x) for x in z_interval]) \n",
    "\n",
    "plt.plot(z,Lambda(z))\n",
    "#plt.plot(z,c(z))"
   ]
  },
  {
   "cell_type": "markdown",
   "metadata": {},
   "source": [
    "# Generic f(t)"
   ]
  },
  {
   "cell_type": "code",
   "execution_count": null,
   "metadata": {},
   "outputs": [],
   "source": []
  }
 ],
 "metadata": {
  "kernelspec": {
   "display_name": "Python 2",
   "language": "python",
   "name": "python2"
  },
  "language_info": {
   "codemirror_mode": {
    "name": "ipython",
    "version": 2
   },
   "file_extension": ".py",
   "mimetype": "text/x-python",
   "name": "python",
   "nbconvert_exporter": "python",
   "pygments_lexer": "ipython2",
   "version": "2.7.12"
  }
 },
 "nbformat": 4,
 "nbformat_minor": 2
}
